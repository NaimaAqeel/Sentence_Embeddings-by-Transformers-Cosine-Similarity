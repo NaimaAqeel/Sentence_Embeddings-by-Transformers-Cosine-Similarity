{
 "cells": [
  {
   "cell_type": "markdown",
   "id": "93de5736",
   "metadata": {
    "id": "93de5736"
   },
   "source": [
    "#  Sentence Embeddings"
   ]
  },
  {
   "cell_type": "code",
   "execution_count": null,
   "id": "uHFXVXp_9eQd",
   "metadata": {
    "colab": {
     "base_uri": "https://localhost:8080/"
    },
    "id": "uHFXVXp_9eQd",
    "outputId": "dfd60f1c-6363-4fc7-e6f1-5aa074079aa6"
   },
   "outputs": [],
   "source": [
    "!pip install sentence-transformers"
   ]
  },
  {
   "cell_type": "markdown",
   "id": "632f7aac-6786-4ea6-8fa3-25a6cebbd2e5",
   "metadata": {
    "id": "632f7aac-6786-4ea6-8fa3-25a6cebbd2e5"
   },
   "source": [
    "- Here is some code that suppresses warning messages."
   ]
  },
  {
   "cell_type": "code",
   "execution_count": null,
   "id": "058015a6-19cf-4f80-940d-f4af86cb589c",
   "metadata": {
    "height": 47,
    "id": "058015a6-19cf-4f80-940d-f4af86cb589c"
   },
   "outputs": [],
   "source": [
    "from transformers.utils import logging\n",
    "logging.set_verbosity_error()"
   ]
  },
  {
   "cell_type": "markdown",
   "id": "c35a8e72",
   "metadata": {
    "id": "c35a8e72"
   },
   "source": [
    "### Build the `sentence embedding` pipeline using 🤗 Transformers Library"
   ]
  },
  {
   "cell_type": "code",
   "execution_count": null,
   "id": "2ed9cec8-803a-4d7e-99d9-c4c84682901c",
   "metadata": {
    "height": 30,
    "id": "2ed9cec8-803a-4d7e-99d9-c4c84682901c"
   },
   "outputs": [],
   "source": [
    "from sentence_transformers import SentenceTransformer"
   ]
  },
  {
   "cell_type": "code",
   "execution_count": null,
   "id": "dd5dbb50-8c36-456c-ac0e-f724429c4b7f",
   "metadata": {
    "colab": {
     "base_uri": "https://localhost:8080/",
     "height": 493,
     "referenced_widgets": [
      "ea54f6b99a2a42b6b53738ba01ee159d",
      "0d9c15f31b8c4ef8b9f46bcaca3d5e74",
      "3a9f3e7d77e04723b226dc390b2e88dd",
      "fa57b04097e84dda9e6e255a8a7e6207",
      "ff7275aa0240443caa1c5cfae5240448",
      "2b436e8671a14226b6ef4da45d71a9bf",
      "767398bd6e974e6c83e4d0a8bd47e65d",
      "f84f0b0821814f04bc8371b1ea769ab1",
      "c3206ff9a3d94dc0a282e0e1f70b8715",
      "ec6a879bb07841cfa3377a32b4b4953c",
      "0bc41b1e38d04b6abeb41993f1920695",
      "390603dc2b644cceb1ee259b8bfa6db9",
      "150062a210364d51aa4830bfac98a164",
      "457cda588412474cbe5511c5a9eafa5c",
      "86a2f21ca4a049f4b30ef087ffddae8b",
      "32f528b4f22142e1baf9fcca77ca7e9f",
      "aaaa7b550397493e81eab9b508510005",
      "4a4c425ee1f54330ac1f9add708c4889",
      "1dadc42e4dd342c99901befbd319b2d7",
      "403e60a8f4f949ac8908592211fcb63d",
      "09726ae630b746e7a582df1800d222da",
      "33221a0b0e3f4041a67d368224c68ca4",
      "f84f4170b819425997885e1a36b546d8",
      "a45b530b50124903884514436db72874",
      "0c98496c988b450a8067840771dc3d7b",
      "04814bae3b374e059e4442e8d4a203e5",
      "532dd29a084f4ebca5eecdf0078584e4",
      "750d6c5af3b842909069711a0029faaf",
      "2cd95437363e431fb84f59494a1e200e",
      "f5ea83a01e2b42748b11a9a7618501ca",
      "48d376e34bd04daeaedcb66b2b6ae0b6",
      "eebcba0adae2467b9b7201ac059ac17f",
      "05c47da27cd34c67983f701d178d73a1",
      "b81add845d7e44fa883f0e497c356134",
      "272b8c4783b74fe7a5ef6433ddf41d38",
      "4133fefa56544d009fe05aba54b7a475",
      "8b7cc94ba8b14da3b2909212cafbf383",
      "9c32f88cadbe45d1bec5bfab11b090c6",
      "67479aeca1124e82ad667ee9b82534cf",
      "07ce9f7a11a640f3a9b1a38f6d0af084",
      "b2cf7fcb8579462480252e8d615f294b",
      "be29fce28d684b9493e15aee2a2227fc",
      "ae6ce4fab9484061bb9db05a2842ea29",
      "9b95ba4a229c486186043b107f48d5e7",
      "1499715af23747a89d96d29f725c41af",
      "98cfc5d888c34ed6b72d84f2793a6f62",
      "0b213d0580dd447d9c818c5e0e989c0a",
      "dadf8d4d4cca4f0eb53f17460e21d59f",
      "9175a0c5b0d345238c32a959ab80d0ab",
      "d945d3e1fc5b4bbca90e93fd182195ad",
      "3f860df1de2c45d0a4d9e6dbe7a9ad58",
      "9a821d2b7cba4525b31fcf6712a35e91",
      "7332571323dc45e1879a6f5a780f5703",
      "1b2ac548b7ff488aa622f9229e695499",
      "0fda165fc192437a96d4a5c33ce636ac",
      "2e4c656cd02141fc9efc9a65d7c60cbe",
      "779b16b2e7dd4c26a1e6cb830a1455be",
      "95a68f06989a4d58af3a71c191868e5a",
      "ec14cac5212a47bb871ea201424b9c4d",
      "71c4186b5551416cbcd93f2f0b377668",
      "e739157e0f8040cfa9d8f0c45604c624",
      "d86b37b4763e481d99cc602b0102c92a",
      "d297a2f00c2b4c6e820123a222033c32",
      "36d97eba8c3f43578e49fc09f7952602",
      "c228944680ae49f5b5ab8e4022e3f3d3",
      "c01be0c166304af6a27cb7ed3edf506d",
      "e33c52ce5a9a4eb9805e04566f34853d",
      "c3af804aa2d847f09ac2900731ce6b36",
      "cfdb16fbcc384c0e8fe23ec5965d548f",
      "76c4b9b0ed954258b3a73d7df9d0dc1e",
      "987c10bb47f84b0983b60d763b11a10e",
      "ce335a1b2f344ff995525e3b58b761e6",
      "127ac3200a2040adbc91ab5bd1a7705d",
      "eddbdc82017f4d148c704021d50b65b7",
      "cd5279719aef41d0bd209fce979705f2",
      "c5623b3f85694487888099eec3dbe11b",
      "6ed0e3130f414fdb965a9e81031d3555",
      "895e54f2063f471ea6a2900c06504dbd",
      "7d6c5a4d63ab49f783a7e8caf5dea63c",
      "1f965a2c2940438880e90386cbf7a70a",
      "89d85c2b036248439f61938cc51ec7ec",
      "791db5893e884d249a9732283fee4bc3",
      "3da53a6f5d374a2a860e0570ae8d2792",
      "e027dcce39a04c4c88087396005d6cae",
      "92d9c40f986643c58f583cbd73c7b5fb",
      "2faa8eddd91d44ad849372d08a9b07dc",
      "57eee9a639bc4d4983c1546a7898de1c",
      "270820ddb300438d860afc8fc12a201f",
      "8ee2e66183564fff8807e6dfb828e9bd",
      "25d2c65f166b47f1b4dc40e4a2623ac1",
      "35b0b7c133ab4409a0408edb01ccf3d0",
      "a252ed25c8e14323b4533c926d9b25fa",
      "102a4e9e8e754780ac742798186ed79a",
      "93351a6b2f734d358f6026cb7550ff3c",
      "69d1e49f3f0d4f6892cf846d8727ec15",
      "97052073a6ba40cd811da906cbc13b80",
      "18c31ae120e240de878999dd7842be21",
      "4c760bffff884f2092b13b228fb744b4",
      "fd1eac031c854d3a809d3c5398531169",
      "e55407b2be5d41149fe6aa0a2a192797",
      "2453ede73e57444dbb8b10fb3fbd69bc",
      "4cc326d2cd1d415ba1a4179ae6c8efc8",
      "75700c4c18504e2486191024ef04767e",
      "e590a3da175546a383889333fe53ef66",
      "d6228dd8f319425986c8fe07ef1357bd",
      "76003bbadb984dbdbe93ca3a338d05fc",
      "cf10e2a749db4ed7a629057440b1fffc",
      "385afc2c422a4f14a7a6e5c94de1b22d",
      "b995b2c3fc1e413f95a4b428acef8150",
      "95f07820e3b4438594e61260f0256cd6",
      "a5cc6a4905654234938d642b51dc6c76",
      "98c5cc5294304b62a4dd8e473c932ce0",
      "92e9996509b34aec856b1c1cfaedad6e",
      "603c4a1683884340b2f9e0f1000c80fd",
      "501e5660158540df8ec5a5239172ca23",
      "5b3f066134574ac4aa504958c1c4df56",
      "e6778b729a344c518b920e8ea3d96fc4",
      "273139eecabe4e76b116618dfeaaf5d8",
      "84372b7683de403bb191f604b9ba538e",
      "3008c762148848e79843c7828c9f202e",
      "222bd155838f44719d1060ed4f671b96"
     ]
    },
    "height": 30,
    "id": "dd5dbb50-8c36-456c-ac0e-f724429c4b7f",
    "outputId": "c624750d-292c-4c86-95c6-cc6b1d0aa399"
   },
   "outputs": [],
   "source": [
    "model = SentenceTransformer(\"all-MiniLM-L6-v2\")"
   ]
  },
  {
   "cell_type": "markdown",
   "id": "cad701ed",
   "metadata": {
    "id": "cad701ed"
   },
   "source": [
    "More info on [all-MiniLM-L6-v2](https://huggingface.co/sentence-transformers/all-MiniLM-L6-v2)."
   ]
  },
  {
   "cell_type": "code",
   "execution_count": null,
   "id": "fe7d23e0-5e68-4537-8dd8-eb125e1a6820",
   "metadata": {
    "height": 64,
    "id": "fe7d23e0-5e68-4537-8dd8-eb125e1a6820"
   },
   "outputs": [],
   "source": [
    "sentences1 = ['The cat sits outside',\n",
    "              'A man is playing guitar',\n",
    "              'The movies are awesome']"
   ]
  },
  {
   "cell_type": "code",
   "execution_count": null,
   "id": "c33db645-edd8-4a28-a06f-e0fd8200f27f",
   "metadata": {
    "height": 30,
    "id": "c33db645-edd8-4a28-a06f-e0fd8200f27f"
   },
   "outputs": [],
   "source": [
    "embeddings1 = model.encode(sentences1, convert_to_tensor=True)"
   ]
  },
  {
   "cell_type": "code",
   "execution_count": null,
   "id": "75de3f4a-bd8e-41d6-847b-9a3a043adeeb",
   "metadata": {
    "colab": {
     "base_uri": "https://localhost:8080/"
    },
    "height": 30,
    "id": "75de3f4a-bd8e-41d6-847b-9a3a043adeeb",
    "outputId": "8dc098d6-f0e1-477d-df61-c3c18416ebe2"
   },
   "outputs": [],
   "source": [
    "embeddings1"
   ]
  },
  {
   "cell_type": "code",
   "execution_count": null,
   "id": "5136886d-80d4-4a3a-a68e-692c25496b51",
   "metadata": {
    "height": 64,
    "id": "5136886d-80d4-4a3a-a68e-692c25496b51"
   },
   "outputs": [],
   "source": [
    "sentences2 = ['The dog plays in the garden',\n",
    "              'A woman watches TV',\n",
    "              'The new movie is so great']"
   ]
  },
  {
   "cell_type": "code",
   "execution_count": null,
   "id": "c7e0c68f",
   "metadata": {
    "height": 47,
    "id": "c7e0c68f"
   },
   "outputs": [],
   "source": [
    "embeddings2 = model.encode(sentences2,\n",
    "                           convert_to_tensor=True)"
   ]
  },
  {
   "cell_type": "code",
   "execution_count": null,
   "id": "8a213124-ea97-4706-bbf4-737490e94244",
   "metadata": {
    "colab": {
     "base_uri": "https://localhost:8080/"
    },
    "height": 30,
    "id": "8a213124-ea97-4706-bbf4-737490e94244",
    "outputId": "16ad9c05-0322-4235-a968-d2caacb3b29f"
   },
   "outputs": [],
   "source": [
    "print(embeddings2)"
   ]
  },
  {
   "cell_type": "markdown",
   "id": "41c3d585",
   "metadata": {
    "id": "41c3d585"
   },
   "source": [
    "* Calculate the cosine similarity between two sentences as a measure of how similar they are to each other."
   ]
  },
  {
   "cell_type": "code",
   "execution_count": null,
   "id": "9e3b38a5-9b35-49de-9f85-c62583d6287d",
   "metadata": {
    "height": 30,
    "id": "9e3b38a5-9b35-49de-9f85-c62583d6287d"
   },
   "outputs": [],
   "source": [
    "from sentence_transformers import util"
   ]
  },
  {
   "cell_type": "code",
   "execution_count": null,
   "id": "39c1f4f3-94ad-4b5e-a40d-c4ba8277815b",
   "metadata": {
    "height": 30,
    "id": "39c1f4f3-94ad-4b5e-a40d-c4ba8277815b"
   },
   "outputs": [],
   "source": [
    "cosine_scores = util.cos_sim(embeddings1,embeddings2)"
   ]
  },
  {
   "cell_type": "code",
   "execution_count": null,
   "id": "b6859d46-15a7-4f61-8a9f-06a15baeff40",
   "metadata": {
    "colab": {
     "base_uri": "https://localhost:8080/"
    },
    "height": 30,
    "id": "b6859d46-15a7-4f61-8a9f-06a15baeff40",
    "outputId": "b9d2bd45-c8a2-4153-9050-e65e93ac3920"
   },
   "outputs": [],
   "source": [
    "print(cosine_scores)"
   ]
  },
  {
   "cell_type": "code",
   "execution_count": null,
   "id": "fae8571e-2dea-4872-b244-342731b949de",
   "metadata": {
    "colab": {
     "base_uri": "https://localhost:8080/"
    },
    "height": 98,
    "id": "fae8571e-2dea-4872-b244-342731b949de",
    "outputId": "631de0ae-4c20-4c93-a497-6ff27069a51c"
   },
   "outputs": [],
   "source": [
    "for i in range(len(sentences1)):\n",
    "    print(\"{} \\t\\t {} \\t\\t Score: {:.4f}\".format(sentences1[i],\n",
    "                                                 sentences2[i],\n",
    "                                                 cosine_scores[i][i]))"
   ]
  }
 ],
 "metadata": {
  "colab": {
   "provenance": []
  },
  "kernelspec": {
   "display_name": "Python 3",
   "name": "python3"
  },
  "language_info": {
   "codemirror_mode": {
    "name": "ipython",
    "version": 3
   },
   "file_extension": ".py",
   "mimetype": "text/x-python",
   "name": "python",
   "nbconvert_exporter": "python",
   "pygments_lexer": "ipython3",
   "version": "3.9.18"
  }
 },
 "nbformat": 4,
 "nbformat_minor": 5
}
